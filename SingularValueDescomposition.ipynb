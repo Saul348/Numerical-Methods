{
  "nbformat": 4,
  "nbformat_minor": 0,
  "metadata": {
    "colab": {
      "name": "Tarea09.ipynb",
      "provenance": [],
      "collapsed_sections": []
    },
    "kernelspec": {
      "name": "python3",
      "display_name": "Python 3"
    },
    "language_info": {
      "name": "python"
    }
  },
  "cells": [
    {
      "cell_type": "code",
      "metadata": {
        "id": "1B3I5-lyjav0"
      },
      "source": [
        "import numpy as np\n",
        "from numpy import linalg as LA"
      ],
      "execution_count": null,
      "outputs": []
    },
    {
      "cell_type": "markdown",
      "source": [
        "Primera parte "
      ],
      "metadata": {
        "id": "CppuKk73V2q0"
      }
    },
    {
      "cell_type": "code",
      "metadata": {
        "id": "7G5Z9JOTjj9z"
      },
      "source": [
        "def interv(a, b, n, m):\n",
        "  x= np.linspace(a, b, m)\n",
        "  matr= np.zeros((m,n))\n",
        "  for i in range(n):\n",
        "    matr[:,i]= x**(i)\n",
        "  return matr"
      ],
      "execution_count": null,
      "outputs": []
    },
    {
      "cell_type": "markdown",
      "source": [
        "Segunda Parte "
      ],
      "metadata": {
        "id": "4z5xyKaLfiBn"
      }
    },
    {
      "cell_type": "code",
      "metadata": {
        "id": "AH2tdOaGAF58",
        "colab": {
          "base_uri": "https://localhost:8080/"
        },
        "outputId": "7566a2f4-5bf4-459d-808a-aef3421a9562"
      },
      "source": [
        "def Decomp(A, m, n, tao, N):\n",
        "  em= np.finfo(float).eps\n",
        "  k = 0\n",
        "  F = 1\n",
        "  s_1 = (n,n)\n",
        "  ns= np.zeros(n)\n",
        "  V= np.zeros(s_1)\n",
        "  for q in range(n):\n",
        "    V[q][q]= 1\n",
        "  while k < N and F>0:\n",
        "    k = k+1\n",
        "    F=0\n",
        "    for i in range(0,n):\n",
        "      for j in range(i, n):\n",
        "        alpha= np.matmul(A[:,i],A[:,i])\n",
        "        gamma= np.matmul(A[:,j],A[:,j])\n",
        "        beta= np.matmul(A[:,i],A[:,j])\n",
        "        if alpha*gamma> em and np.abs(beta)>tao*alpha*gamma:\n",
        "          F = 1\n",
        "          if beta != 0:\n",
        "            nu = (gamma - alpha)/(2*beta)\n",
        "            t = 1/(np.abs(nu)+ np.sqrt(1+nu**(2)))\n",
        "            if nu < 0:\n",
        "              t = -t\n",
        "            c = 1/(1+t**(2))\n",
        "            s = t*c \n",
        "          else:\n",
        "            c = 1\n",
        "            s = 0\n",
        "            t = 0\n",
        "          a = A[:, i].copy()\n",
        "          b = A[:, j].copy()\n",
        "          A[:, i]= c*a - s*b\n",
        "          A[:, j]= s*a + a*b\n",
        "          a = V[:, i].copy()\n",
        "          b = V[:, j].copy()\n",
        "          V[:, i]= c*a- s*b\n",
        "          V[:, j]= s*a + c*b\n",
        "  for j in range(n):\n",
        "    ns[j]= np.linalg.norm(A[:, j])\n",
        "  ns1= np.sort(ns)\n",
        "  for i in range(n):\n",
        "    for j in range(i, n):\n",
        "      if ns[j] == ns1[i]:\n",
        "        y= A[:,j]\n",
        "        A[:, i]= y\n",
        "        A[:, j]= A[:, i]\n",
        "        y= V[:,j]\n",
        "        V[:, i]= y\n",
        "        V[:, j]= V[:, i]\n",
        "  U= np.zeros((n,m))\n",
        "  for j in range(n):\n",
        "    U[:, j]= A[:, j]/ ns1[j]\n",
        "  return U, V, ns\n",
        "\n",
        "def Prob(A, lenA):\n",
        "  em= np.finfo(float).eps\n",
        "  S= np.identity(lenA)\n",
        "  print(lenA)\n",
        "  U,V, ns= Decomp(A,lenA,lenA, em, 100)\n",
        "  print(LA.norm(np.identity(lenA)-np.matmul(U.transpose(),U)))\n",
        "  print(LA.norm(np.identity(lenA)-np.matmul(V.transpose(),V)))\n",
        "  for i in range(lenA):\n",
        "    S[i][i]= ns[i]\n",
        "  print(U,V,ns,S)\n",
        "  S= np.matmul(U,S)\n",
        "  S= np.matmul(S,V.transpose())\n",
        "  print(LA.norm(A-S))\n",
        "A= np.array([[2.0,1.0,-1.0],[1.0,5.0,-2.0],[-1.0,-2.0,4.0]])\n",
        "Prob(A, 3)\n"
      ],
      "execution_count": null,
      "outputs": [
        {
          "output_type": "stream",
          "name": "stdout",
          "text": [
            "3\n",
            "1.0000496706556594\n",
            "1.1536017686545579\n",
            "[[ 2.41732309e-06  1.00000000e+00  2.41334152e-07]\n",
            " [-1.00000000e+00  2.45882365e-05 -9.98352899e-02]\n",
            " [ 6.95359205e-23  8.07377436e-17  6.94213879e-24]] [[-0.04375501  0.49812952 -0.04375501]\n",
            " [-0.36067988  0.3586638  -0.36067988]\n",
            " [ 0.68597499  0.32430587  0.68597499]] [3.75532676e+13 5.96850587e+12 3.74914136e+12] [[3.75532676e+13 0.00000000e+00 0.00000000e+00]\n",
            " [0.00000000e+00 5.96850587e+12 0.00000000e+00]\n",
            " [0.00000000e+00 0.00000000e+00 3.74914136e+12]]\n",
            "27193680027765.81\n"
          ]
        }
      ]
    },
    {
      "cell_type": "code",
      "metadata": {
        "id": "H0jXVH3VHc5-"
      },
      "source": [
        ""
      ],
      "execution_count": null,
      "outputs": []
    }
  ]
}