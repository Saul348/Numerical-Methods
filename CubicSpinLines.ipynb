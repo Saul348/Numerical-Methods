{
  "nbformat": 4,
  "nbformat_minor": 0,
  "metadata": {
    "colab": {
      "name": "Tarea10_Metodos.ipynb",
      "provenance": []
    },
    "kernelspec": {
      "name": "python3",
      "display_name": "Python 3"
    },
    "language_info": {
      "name": "python"
    }
  },
  "cells": [
    {
      "cell_type": "code",
      "metadata": {
        "id": "ke3kjWvo_3u1"
      },
      "source": [
        "import numpy as np "
      ],
      "execution_count": null,
      "outputs": []
    },
    {
      "cell_type": "code",
      "metadata": {
        "id": "sgNppORX_8DV",
        "colab": {
          "base_uri": "https://localhost:8080/"
        },
        "outputId": "6bd04a2c-0d71-4ef4-961b-1d32456b927a"
      },
      "source": [
        "def interpol(A, n):\n",
        "  sigu=0\n",
        "  M= np.zeros(n+1)\n",
        "  u= np.zeros(n)\n",
        "  for i in range(1,n):\n",
        "    sigu= (A[i][0]-A[i-1][0])/(A[i+1][0]-A[i-1][0])\n",
        "    p= sigu*M[i-1]+2\n",
        "    M[i]= (sigu - 1)/p\n",
        "    u[i]= (A[i+1][1]-A[i][1])/(A[i+1][0]-A[i][0])-(A[i][1]-A[i-1][1])/(A[i][0]-A[i-1][0])\n",
        "    u[i]= (6.0*u[i]/(A[i+1][0]-A[i-1][0])- sigu*u[i-1])/p\n",
        "  for i in range(n-1, 2,-1):\n",
        "    M[i]= M[i]*M[i+1]+u[i]\n",
        "  print(M)\n",
        "  return M\n",
        "def splint(A,n, M, x):\n",
        "  klo= 1\n",
        "  khi= n\n",
        "  while (khi - klo> 1):\n",
        "    k = (khi + klo)>> 1\n",
        "    if (A[k][0]> x):\n",
        "      khi= k\n",
        "    else:\n",
        "      klo= k\n",
        "  h = A[khi][0]-A[klo][0]\n",
        "  if h==0:\n",
        "    print(\"error\")\n",
        "  a= (A[khi][0]-x)/h\n",
        "  b= (x-A[klo][0])/h\n",
        "  y = a*A[klo][1]+b*A[khi][1]+ ((a**(3)-a)*M[klo]+(b**(3)-b)*M[khi])*(h**(2))/6.0\n",
        "  print(y)\n",
        "  return y\n",
        "def split(n,a,b):\n",
        "  Spli= np.linspace(a, b, n+1)\n",
        "  matr= np.zeros((n+1,2))\n",
        "  for i in range(n+1):\n",
        "    matr[i][0]= Spli[i]\n",
        "    matr[i][1]= Spli[i]+ (1+Spli[i])*np.sin(Spli[i]**(2))+2*np.cos(6*Spli[i])\n",
        "  s= interpol(matr,n)\n",
        "  for i in range(n+1):\n",
        "    r= splint(matr, n, s, matr[i][0])\n",
        "split(10, -3, 3 )\n",
        "split(30, -3, 3 )\n",
        "\n",
        "\n",
        "\n",
        "    \n",
        "\n",
        "\n",
        "\n",
        "  "
      ],
      "execution_count": null,
      "outputs": [
        {
          "output_type": "stream",
          "name": "stdout",
          "text": [
            
          ]
        }
      ]
    }
  ]
}
