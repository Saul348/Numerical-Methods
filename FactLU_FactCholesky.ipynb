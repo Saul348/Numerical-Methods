{
  "nbformat": 4,
  "nbformat_minor": 0,
  "metadata": {
    "colab": {
      "name": "Tarea6.ipynb",
      "provenance": []
    },
    "kernelspec": {
      "name": "python3",
      "display_name": "Python 3"
    },
    "language_info": {
      "name": "python"
    }
  },
  "cells": [
    {
      "cell_type": "code",
      "execution_count": null,
      "metadata": {
        "id": "Uz2IG38RZTez"
      },
      "outputs": [],
      "source": [
        "import numpy as np "
      ]
    },
    {
      "cell_type": "markdown",
      "source": [
        "Primera Parte"
      ],
      "metadata": {
        "id": "uf3LZsaT2d9l"
      }
    },
    {
      "cell_type": "code",
      "source": [
        "#Encuentra el maximo de los elementos en una columna.\n",
        "def Max(p,n, in_aux):\n",
        "  max = p[0]\n",
        "  ind = in_aux\n",
        "  for i in range(1,n):\n",
        "    if p[i]> max:\n",
        "      max = p[i]\n",
        "      ind= i+in_aux\n",
        "  return ind, max\n",
        "#Algoritmo de factorización LU con pivote parcial.\n",
        "def factLU(A, n, tao):\n",
        "  L = np.identity(n)\n",
        "  U = A.copy()\n",
        "  ind= 0\n",
        "  max= 0\n",
        "  p = np.arange(n)\n",
        "  for i in range(n):  \n",
        "    #pivoteo- inicio\n",
        "    aux= U[i][i:]\n",
        "    ind,max= Max(aux, aux.size-i, i)\n",
        "    #Si el elemento más grande es menor a tao, no es posible hacer el algoritmo\n",
        "    #terminarlo regresando 1\n",
        "    if np.abs(max)< tao:\n",
        "      return 1\n",
        "    if ind != i:\n",
        "    #Se lleva a cabo el pivote \n",
        "      for j in range(n):\n",
        "        v= U[i][j]\n",
        "        U[i][j]=U[ind][j]\n",
        "        U[ind][j]= v\n",
        "    #Se llena el vector de permutación\n",
        "      v= p[i]\n",
        "      p[i]= p[ind]\n",
        "      p[ind]= v\n",
        "      if i > 0: \n",
        "        for j in range(i):\n",
        "          v= L[i][j]\n",
        "          L[i][j]= L[ind][j]\n",
        "          L[ind][j]= v\n",
        "    for k in range(i+1,n):\n",
        "      L[k][i]= U[k][i]/U[i][i]\n",
        "      for j in range(i,n):\n",
        "        U[k][j]= U[k][j]- L[k][i]*U[i][j]\n",
        "  return L, U, p\n",
        "\n",
        "\n",
        "def forwSubs(Matr, lenMatr, Arrb, tao):\n",
        "  x= np.zeros(lenMatr)\n",
        "  if len(Matr[1])!= len(Arrb):\n",
        "    print(\"No es un sistema compatible.\")\n",
        "  else:\n",
        "    x[0]= Arrb[0]/Matr[0][0]\n",
        "    for i in range(1,lenMatr):\n",
        "      b=0\n",
        "      for j in range(i):\n",
        "        b = b + Matr[i][j]* x[j]\n",
        "      b= Arrb[i]- b\n",
        "      x[i]= b/Matr[i][i]\n",
        "    return x\n",
        "\n",
        "\n",
        "  \n",
        "def BackSubs(Matr, lenMatr, Arrb, tao):\n",
        "  x= np.zeros(lenMatr)\n",
        "  if len(Matr[1])!= len(Arrb):\n",
        "    print(\"No es un sistema compatible.\")\n",
        "  else:\n",
        "    x[lenMatr-1]= Arrb[len(Arrb)-1]/ Matr[lenMatr-1][lenMatr-1]\n",
        "    for i in range(lenMatr-2, -1, -1):\n",
        "      b=0\n",
        "      for j in range( len(Arrb)-1, i,-1):\n",
        "        b = b + Matr[i][j]* x[j]\n",
        "      b= Arrb[i]- b\n",
        "      x[i]= b/Matr[i][i]\n",
        "    return x\n",
        "def CalcularSol(L, U, p, b, n,tao):\n",
        "  b_hat= b.copy()\n",
        "  for i in range(n):\n",
        "    b_hat[i] = b[p[i]]\n",
        "  y_1= forwSubs(L, n, b_hat, tao)\n",
        "  x_1= BackSubs(U, n, y_1, tao)\n",
        "  return x_1\n",
        "\n",
        "def Error(A,x,b):\n",
        "  c= np.matmul(A,x)- b\n",
        "  return np.linalg.norm(c)\n"
      ],
      "metadata": {
        "id": "D_eX6dCWZWB4"
      },
      "execution_count": null,
      "outputs": []
    },
    {
      "cell_type": "code",
      "source": [
        "def Test(Direccion1):\n",
        "  A1 = np.load(Direccion1, encoding='bytes')\n",
        "  return A1"
      ],
      "metadata": {
        "id": "xcDvcN7-hrfE"
      },
      "execution_count": null,
      "outputs": []
    },
    {
      "cell_type": "code",
      "source": [
        "em= np.finfo(float).eps\n",
        "b_1= Test('/content/vecb6.npy')\n",
        "A= Test('/content/matrizA6.npy')\n",
        "#print(A,b_1)\n",
        "L,U,p= factLU(A, 6, em)\n",
        "x= CalcularSol(L,U,p, b_1, 6, em)\n",
        "print(Error(A,x,b_1))\n",
        "print(x)"
      ],
      "metadata": {
        "id": "rQ9Iaq8r8bde",
        "colab": {
          "base_uri": "https://localhost:8080/"
        },
        "outputId": "0e2f2189-4692-4acd-c178-3591bec14d63"
      },
      "execution_count": null,
      "outputs": [
        {
          "output_type": "stream",
          "name": "stdout",
          "text": [
            "0.0\n",
            "[1. 1. 1. 1. 1. 1.]\n"
          ]
        }
      ]
    },
    {
      "cell_type": "markdown",
      "source": [
        "Segunda Parte "
      ],
      "metadata": {
        "id": "GYABk66P2kLW"
      }
    },
    {
      "cell_type": "code",
      "source": [
        "def sum(A,i,j):\n",
        "  c= 0 \n",
        "  for k in range(j):\n",
        "    c+=A[i][k]*A[j][k]\n",
        "  return c\n",
        "def Fact_Chole(A, n, tao):\n",
        "  L = np.zeros((n,n))\n",
        "  for j in range(n):\n",
        "    L[j][j]= np.sqrt(A[j][j]- sum(L,j,j))\n",
        "    for i in range(j+1,n):\n",
        "      L[i][j]= (A[i][j]-sum(L,i,j))/L[j][j]\n",
        "  return L, L.transpose()"
      ],
      "metadata": {
        "id": "w5gHql65CVbw"
      },
      "execution_count": null,
      "outputs": []
    },
    {
      "cell_type": "code",
      "source": [
        "L, L_T= Fact_Chole(A, 5, em)\n",
        "p = np.arange(5)\n",
        "print(CalcularSol(L,L_T,p, b_1,5, em))\n",
        "print(L)\n",
        "print(L_T)"
      ],
      "metadata": {
        "colab": {
          "base_uri": "https://localhost:8080/"
        },
        "id": "POl3XL8lci7Z",
        "outputId": "c51d46ff-dd89-4213-c6cf-90ff6348cc32"
      },
      "execution_count": null,
      "outputs": [
        {
          "output_type": "stream",
          "name": "stdout",
          "text": [
            "[1. 1. 1. 1. 1.]\n",
            "[[ 1.41421356  0.          0.          0.          0.        ]\n",
            " [-1.02601194  1.71677008  0.          0.          0.        ]\n",
            " [-0.10040916 -0.71006655  2.34216214  0.          0.        ]\n",
            " [-0.09970206  0.19030184 -0.19976586  2.81317229  0.        ]\n",
            " [ 0.04101219 -0.10072461  0.43745768 -0.10996618  3.12805223]]\n",
            "[[ 1.41421356 -1.02601194 -0.10040916 -0.09970206  0.04101219]\n",
            " [ 0.          1.71677008 -0.71006655  0.19030184 -0.10072461]\n",
            " [ 0.          0.          2.34216214 -0.19976586  0.43745768]\n",
            " [ 0.          0.          0.          2.81317229 -0.10996618]\n",
            " [ 0.          0.          0.          0.          3.12805223]]\n"
          ]
        }
      ]
    }
  ]
}