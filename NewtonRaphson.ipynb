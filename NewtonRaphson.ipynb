{
  "nbformat": 4,
  "nbformat_minor": 0,
  "metadata": {
    "colab": {
      "provenance": []
    },
    "kernelspec": {
      "name": "python3",
      "display_name": "Python 3"
    },
    "language_info": {
      "name": "python"
    }
  },
  "cells": [
    {
      "cell_type": "code",
      "metadata": {
        "id": "ccaKv2ukv8yC"
      },
      "source": [
        "import numpy as np\n",
        "import matplotlib.pyplot as plt"
      ],
      "execution_count": null,
      "outputs": []
    },
    {
      "cell_type": "markdown",
      "metadata": {
        "id": "EqU8vr3P1roK"
      },
      "source": [
        "Verifiquemos que g cumple con las condiciones del teorema de punto fijo. Primero verifiquemos que f(x)=0 ssi g(x)=x. Supongamos que f(x)=0, esto es\n",
        "    x+ln(sqrt(x))-2.5= 0, \n",
        "así, x= 2.5-ln(sqrt(x))= g(x). Ahora supongamos que g(x)= x, esto es, \n",
        "    2.5-ln(sqrt(x))= x, \n",
        "entonces x+ln(sqrt(x))-2.5= 0, es decir f(x)= 0. Por lo tanto, se verifica que \n",
        "f(x)=0 ssi g(x)=x. Ahora, notemos que podemos reescribir g, como \n",
        "g(x)= (5-ln(x))/2. Como 0<= ln(x)< 2 para toda x en [1,3], se sigue que \n",
        "5/2 >= (5-ln(x))/2 > 3/2, esto es, \n",
        "    3 > 5/2>= g(x) > 3/2 > 1\n",
        "por lo tanto 1< g(x) < 3. Por último, g'(x)= -(2x)^(-1) está bien definida para toda x en [1,3], además, notemos que |g'(x)|<= 1 para toda x en [1,3]. Así, concluimos que g cumple con las condiciones del teorema de punto fijo."
      ]
    },
    {
      "cell_type": "code",
      "metadata": {
        "colab": {
          "base_uri": "https://localhost:8080/"
        },
        "id": "nuCknW5_wDlW",
        "outputId": "8b7bb8a2-5edd-40ad-990a-4552f83583c1"
      },
      "source": [
        "def g(x):\n",
        "  return 2.5-np.log(np.sqrt(x))\n",
        "x = 2.1\n",
        "y=x\n",
        "while ( y >= 10**(-6)):\n",
        "  y= np.abs(x- g(x))\n",
        "  x= g(x)\n",
        "  print(y,x)"
      ],
      "execution_count": null,
      "outputs": [
        {
          "output_type": "stream",
          "name": "stdout",
          "text": [
            "0.029031327635311133 2.129031327635311\n",
            "0.006864877896013866 2.1221664497392974\n",
            "0.0016148116889640463 2.1237812614282614\n",
            "0.0003803183356625439 2.123400943092599\n",
            "8.954603743482892e-05 2.1234904891300337\n",
            "2.108507808040727e-05 2.1234694040519533\n",
            "4.964746221247651e-06 2.1234743687981745\n",
            "1.1690162353694689e-06 2.123473199781939\n",
            "2.752603407429888e-07 2.12347347504228\n"
          ]
        }
      ]
    },
    {
      "cell_type": "code",
      "metadata": {
        "colab": {
          "base_uri": "https://localhost:8080/"
        },
        "id": "soBe9OGxIw2o",
        "outputId": "c3b2fc7c-06d2-42df-fba3-0806a759235d"
      },
      "source": [
        "def f(x):\n",
        "  return np.exp(2*x)-x-6\n",
        "def h(x):\n",
        "  return 2*np.exp(2*x)-1\n",
        "def f_1(x):\n",
        "  return 3*np.cos(3*np.pi*x)\n",
        "def h_1(x):\n",
        "  return -9*np.pi*np.sin(3*np.pi*x)\n",
        "def f_2(x):\n",
        "  return np.arctan(x)\n",
        "def h_2(x):\n",
        "  return 1/(1+x**(2))\n",
        "def f_3(x):\n",
        "  return np.arctan(x)\n",
        "def h_3(x):\n",
        "  return 1/(1+x**(2))\n",
        "\n",
        "def NR( f, h, x0, t, N):\n",
        "  ite=N\n",
        "  res= 1\n",
        "  x_f = 0\n",
        "  x_k= x0\n",
        "  f_k= f(x0)\n",
        "  for k in range(1,N):\n",
        "    if(np.abs(f_k)< t):\n",
        "      x_f= x_k\n",
        "      ite= k\n",
        "      res= 0\n",
        "      break\n",
        "    else:\n",
        "      h_k = h(x_k)\n",
        "      x_l= x_k\n",
        "      if(h_k== 0):\n",
        "        break  \n",
        "      x_k = x_k - (f_k/h_k)\n",
        "      f_k = f(x_k)\n",
        "  print('x*= %f, x_k=%f, f(x_k)= %f, k= %f, res= %f' %(x_f, x_l, f(x_l), ite, res)) \n",
        "NR(f, h, 3, 10**(-5), 100)\n",
        "NR(f_1, h_1, -.75, 10**(-5), 100)\n",
        "NR(f_2, h_2, .5, 10**(-5), 100)\n",
        "NR(f_3, h_3, 2, 10**(-5), 10000)"
      ],
      "execution_count": null,
      "outputs": [
        {
          "output_type": "stream",
          "name": "stdout",
          "text": [
            "x*= 0.970870, x_k=0.970893, f(x_k)= 0.000301, k= 9.000000, res= 0.000000\n",
            "x*= -0.833333, x_k=-0.832977, f(x_k)= 0.010069, k= 4.000000, res= 0.000000\n",
            "x*= -0.000000, x_k=0.000335, f(x_k)= 0.000335, k= 4.000000, res= 0.000000\n",
            "x*= 0.000000, x_k=-6999943395317565423735314196868016788465049755144648872314143686421768470271697148515847968668805097387450151283167294135721261662723141165834482364266829221404453371904.000000, f(x_k)= -1.570796, k= 10000.000000, res= 1.000000\n"
          ]
        },
        {
          "output_type": "stream",
          "name": "stderr",
          "text": [
            "/usr/local/lib/python3.7/dist-packages/ipykernel_launcher.py:16: RuntimeWarning: overflow encountered in double_scalars\n",
            "  app.launch_new_instance()\n"
          ]
        }
      ]
    },
    {
      "cell_type": "markdown",
      "metadata": {
        "id": "9dVulLynlfvJ"
      },
      "source": [
        "Ejercicio 3.1. Es posible usar dicho teorema para calcular el rango que se encuentran todas las raices de un polinomio dado que te da una cota en la cual probar valores iniciales. "
      ]
    },
    {
      "cell_type": "code",
      "metadata": {
        "colab": {
          "base_uri": "https://localhost:8080/",
          "height": 438
        },
        "id": "YOUubeeIjLbF",
        "outputId": "deac1ebd-1707-42e6-bd75-abd693007b00"
      },
      "source": [
        "def p(x):\n",
        "  return (6*x**(5)-25*x**(4)-24*x**(3)+110*x**(2)-72*x+320)\n",
        "def dp(x):\n",
        "  return (30*x**(4)- 100*x**(3)- 72*x**(2)+220*x-72)\n",
        "m= 1-6/24\n",
        "arr= np.linspace(-m,m, 10)\n",
        "for i in arr:\n",
        "  NR(p,dp, i, 10**(-5), 100)\n",
        "min_r= -2.5\n",
        "max_r= 4\n",
        "r= np.linspace(min_r-2, max_r+2, 1000)\n",
        "plt.plot(r, p(r))\n",
        "plt.show()\n"
      ],
      "execution_count": null,
      "outputs": [
        {
          "output_type": "stream",
          "name": "stdout",
          "text": [
            "x*= 4.000000, x_k=4.000000, f(x_k)= 0.000443, k= 16.000000, res= 0.000000\n",
            "x*= 4.000000, x_k=4.000023, f(x_k)= 0.021126, k= 10.000000, res= 0.000000\n",
            "x*= 2.666667, x_k=2.666173, f(x_k)= 0.186077, k= 7.000000, res= 0.000000\n",
            "x*= 2.666667, x_k=2.666670, f(x_k)= -0.001310, k= 5.000000, res= 0.000000\n",
            "x*= 4.000000, x_k=4.000000, f(x_k)= 0.000209, k= 12.000000, res= 0.000000\n",
            "x*= 4.000000, x_k=4.000006, f(x_k)= 0.005955, k= 9.000000, res= 0.000000\n",
            "x*= 4.000000, x_k=4.000000, f(x_k)= 0.000099, k= 14.000000, res= 0.000000\n",
            "x*= -2.500000, x_k=-2.500004, f(x_k)= -0.007051, k= 28.000000, res= 0.000000\n",
            "x*= -2.500000, x_k=-2.500004, f(x_k)= -0.006129, k= 15.000000, res= 0.000000\n",
            "x*= -2.500000, x_k=-2.500001, f(x_k)= -0.002229, k= 14.000000, res= 0.000000\n"
          ]
        },
        {
          "output_type": "display_data",
          "data": {
            "image/png": "[encoded data removed]",
            "text/plain": [
              "<Figure size 432x288 with 1 Axes>"
            ]
          },
          "metadata": {
            "needs_background": "light"
          }
        }
      ]
    },
    {
      "cell_type": "code",
      "metadata": {
        "id": "DzpjC519KnJU"
      },
      "source": [],
      "execution_count": null,
      "outputs": []
    }
  ]
}